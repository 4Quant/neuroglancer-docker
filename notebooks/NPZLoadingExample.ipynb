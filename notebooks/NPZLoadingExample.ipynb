{
 "cells": [
  {
   "cell_type": "markdown",
   "metadata": {},
   "source": [
    "# Basics\n",
    "The basic notebook just imports the required dependencies and sets the ports and addresses correctly to be accessible outside of the Docker container. It then creates a link for viewing the data"
   ]
  },
  {
   "cell_type": "code",
   "execution_count": 1,
   "metadata": {
    "collapsed": true
   },
   "outputs": [],
   "source": [
    "from __future__ import print_function\n",
    "from neuroglancer.server import global_server_args\n",
    "# setup the binding so it is visible outside the container\n",
    "global_server_args['bind_port'] = 8989\n",
    "global_server_args['bind_address'] = '00.0.0.0' # TODO: the server renames addresses of 0.0.0.0 and they become unusable\n",
    "import neuroglancer\n",
    "import numpy as np"
   ]
  },
  {
   "cell_type": "markdown",
   "metadata": {},
   "source": [
    "# 3D Numpy Data\n",
    "Here we show 3D saved data in from a compressed numpy file (NPZ)\n",
    "- __Note__ the data needs to be recast as np.uint32 type so it can be used in neuroglancer"
   ]
  },
  {
   "cell_type": "code",
   "execution_count": 2,
   "metadata": {
    "collapsed": false
   },
   "outputs": [],
   "source": [
    "with np.load('test_data.npz', 'r') as npz_file:\n",
    "    raw_ct_image = npz_file['CT']\n",
    "    ct_image = ((np.expand_dims(raw_ct_image,0)+1024).clip(0,2048)/2048.0).astype(np.float32) \n",
    "    raw_PET_image = npz_file['PET']\n",
    "    pet_image = ((np.expand_dims(raw_PET_image,0)).clip(0,5)/5.0).astype(np.float32) \n",
    "    label_image = np.expand_dims(npz_file['Labels'].astype(np.float32),0)\n",
    "    label_image /= label_image.max() # normalize labels\n",
    "    vox_size = npz_file['spacing'] # in mm"
   ]
  },
  {
   "cell_type": "markdown",
   "metadata": {},
   "source": [
    "# Create the viewer\n",
    "Here the viewer is created with a simple shader to make the rendering colorful"
   ]
  },
  {
   "cell_type": "code",
   "execution_count": 3,
   "metadata": {
    "collapsed": false
   },
   "outputs": [],
   "source": [
    "neuroglancer.set_static_content_source(url='https://neuroglancer-demo.appspot.com')\n",
    "\n",
    "viewer = neuroglancer.Viewer(voxel_size=1000*vox_size) # since vox_size\n",
    "viewer.add(ct_image,\n",
    "           name='CT Image')\n",
    "viewer.add(pet_image,\n",
    "           name='PET Image',\n",
    "          shader = \"\"\"\n",
    "void main () {\n",
    "  emitRGB(colormapJet(toNormalized(getDataValue())));\n",
    "}\n",
    "          \"\"\") \n",
    "# add as a solid red green with a varying degree of transparency\n",
    "viewer.add(label_image,\n",
    "           name='Label Image',\n",
    "          shader = \"\"\"\n",
    "void main () {\n",
    "  emitRGBA(vec4(0, 1.0, 0, toNormalized(getDataValue())));\n",
    "}\n",
    "          \"\"\") "
   ]
  },
  {
   "cell_type": "markdown",
   "metadata": {},
   "source": [
    "# Show the Results\n",
    "Here when we show the viewer we get a link, altnatively the results can be shown using the IPython HTML displaying interface"
   ]
  },
  {
   "cell_type": "code",
   "execution_count": 4,
   "metadata": {
    "collapsed": false
   },
   "outputs": [
    {
     "data": {
      "text/html": [
       "<a href=\"http://00.0.0.0:8989/static/310f0b7b9fb783a8a0f1c6efb92505b16a78e7b1/#!%7B%22layers%22:%7B%22CT%20Image%22:%7B%22source%22:%22python://http://00.0.0.0:8989/9d1be81e302f5956bc04143432598a4fd9916bff%22,%22type%22:%22image%22%7D,%22PET%20Image%22:%7B%22source%22:%22python://http://00.0.0.0:8989/c01da334987dd01933ce670e6f3c9e7e491954ea%22,%22type%22:%22image%22,%22shader%22:%22%5Cnvoid%20main%20()%20%7B%5Cn%20%20emitRGB(colormapJet(toNormalized(getDataValue())));%5Cn%7D%5Cn%20%20%20%20%20%20%20%20%20%20%22%7D,%22Label%20Image%22:%7B%22source%22:%22python://http://00.0.0.0:8989/180b47babeb1854136ddced7fb57c78a92d8524b%22,%22type%22:%22image%22,%22shader%22:%22%5Cnvoid%20main%20()%20%7B%5Cn%20%20emitRGBA(vec4(1,%200,%200,%20toNormalized(getDataValue())));%5Cn%7D%5Cn%20%20%20%20%20%20%20%20%20%20%22%7D%7D,%22navigation%22:%7B%22pose%22:%7B%22voxelSize%22:%5B2976.5625,2976.5625,8000.0%5D%7D%7D%7D\" target=\"_blank\">Viewer</a>"
      ],
      "text/plain": [
       "http://00.0.0.0:8989/static/310f0b7b9fb783a8a0f1c6efb92505b16a78e7b1/#!%7B%22layers%22:%7B%22CT%20Image%22:%7B%22source%22:%22python://http://00.0.0.0:8989/9d1be81e302f5956bc04143432598a4fd9916bff%22,%22type%22:%22image%22%7D,%22PET%20Image%22:%7B%22source%22:%22python://http://00.0.0.0:8989/c01da334987dd01933ce670e6f3c9e7e491954ea%22,%22type%22:%22image%22,%22shader%22:%22%5Cnvoid%20main%20()%20%7B%5Cn%20%20emitRGB(colormapJet(toNormalized(getDataValue())));%5Cn%7D%5Cn%20%20%20%20%20%20%20%20%20%20%22%7D,%22Label%20Image%22:%7B%22source%22:%22python://http://00.0.0.0:8989/180b47babeb1854136ddced7fb57c78a92d8524b%22,%22type%22:%22image%22,%22shader%22:%22%5Cnvoid%20main%20()%20%7B%5Cn%20%20emitRGBA(vec4(1,%200,%200,%20toNormalized(getDataValue())));%5Cn%7D%5Cn%20%20%20%20%20%20%20%20%20%20%22%7D%7D,%22navigation%22:%7B%22pose%22:%7B%22voxelSize%22:%5B2976.5625,2976.5625,8000.0%5D%7D%7D%7D"
      ]
     },
     "execution_count": 4,
     "metadata": {},
     "output_type": "execute_result"
    }
   ],
   "source": [
    "viewer"
   ]
  },
  {
   "cell_type": "code",
   "execution_count": 5,
   "metadata": {
    "collapsed": false
   },
   "outputs": [
    {
     "data": {
      "text/html": [
       "<!DOCTYPE html>\n",
       "<html>\n",
       "  <head>\n",
       "    <meta charset=\"UTF-8\">\n",
       "    <title>neuroglancer</title>\n",
       "    <link rel=\"stylesheet\" type=\"text/css\" href=\"styles.css\">\n",
       "  <link href=\"styles.css\" rel=\"stylesheet\"></head>\n",
       "  <body>\n",
       "    <div id=\"container\"></div>\n",
       "  <script type=\"text/javascript\" src=\"main.bundle.js\"></script></body>\n",
       "</html>\n"
      ],
      "text/plain": [
       "<IPython.core.display.HTML object>"
      ]
     },
     "execution_count": 5,
     "metadata": {},
     "output_type": "execute_result"
    }
   ],
   "source": [
    "from IPython.display import HTML\n",
    "HTML(url = str(viewer))"
   ]
  }
 ],
 "metadata": {
  "kernelspec": {
   "display_name": "Python 2",
   "language": "python",
   "name": "python2"
  },
  "language_info": {
   "codemirror_mode": {
    "name": "ipython",
    "version": 2
   },
   "file_extension": ".py",
   "mimetype": "text/x-python",
   "name": "python",
   "nbconvert_exporter": "python",
   "pygments_lexer": "ipython2",
   "version": "2.7.13"
  }
 },
 "nbformat": 4,
 "nbformat_minor": 2
}
