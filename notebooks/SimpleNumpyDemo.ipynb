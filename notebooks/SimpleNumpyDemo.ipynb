{
 "cells": [
  {
   "cell_type": "markdown",
   "metadata": {},
   "source": [
    "# Basics\n",
    "The basic notebook just imports the required dependencies and sets the ports and addresses correctly to be accessible outside of the Docker container. It then creates a link for viewing the data"
   ]
  },
  {
   "cell_type": "code",
   "execution_count": null,
   "metadata": {},
   "outputs": [],
   "source": [
    "from __future__ import print_function\n",
    "from neuroglancer.server import global_server_args\n",
    "# setup the binding so it is visible outside the container\n",
    "PORT = 8989\n",
    "global_server_args['bind_port'] = PORT\n",
    "global_server_args['bind_address'] = '00.0.0.0' # TODO: the server renames addresses of 0.0.0.0 and they become unusable\n",
    "import neuroglancer\n",
    "import numpy as np"
   ]
  },
  {
   "cell_type": "markdown",
   "metadata": {},
   "source": [
    "# Synthetic Data\n",
    "Since it is much easier to generate synthetic data than copy full real images a 3D image sized 100x100x100 is greated and then colored using a simple sinusoidal relationship"
   ]
  },
  {
   "cell_type": "code",
   "execution_count": null,
   "metadata": {},
   "outputs": [],
   "source": [
    "a = np.zeros((3, 100, 100, 100), dtype=np.uint8)\n",
    "ix, iy, iz = np.meshgrid(*[np.linspace(0, 1, n) for n in a.shape[1:]], indexing='ij')\n",
    "a[0, :, :, :] = np.abs(np.sin(4 * (ix + iy))) * 255\n",
    "a[1, :, :, :] = np.abs(np.sin(4 * (iy + iz))) * 255\n",
    "a[2, :, :, :] = np.abs(np.sin(4 * (ix + iz))) * 255\n",
    "\n",
    "b = np.cast[np.uint32](np.floor(np.sqrt((ix - 0.5)**2 + (iy - 0.5)**2 + (iz - 0.5)**2) * 10))\n",
    "b = np.pad(b, 1, 'constant')\n",
    "print(a.shape, b.shape)"
   ]
  },
  {
   "cell_type": "markdown",
   "metadata": {},
   "source": [
    "# Create the viewer\n",
    "Here the viewer is created with a simple shader to make the rendering colorful"
   ]
  },
  {
   "cell_type": "code",
   "execution_count": null,
   "metadata": {},
   "outputs": [],
   "source": [
    "neuroglancer.set_static_content_source(url='https://neuroglancer-demo.appspot.com')\n",
    "\n",
    "viewer = neuroglancer.Viewer()\n",
    "a_vol = neuroglancer.LocalVolume(a, offset=(200, 300, 150))\n",
    "viewer.volume_manager.register_volume(a_vol)\n",
    "#viewer.add(b, name='b')"
   ]
  },
  {
   "cell_type": "markdown",
   "metadata": {},
   "source": [
    "# Show the Results\n",
    "Here when we show the viewer we get a link, altnatively the results can be shown using the IPython HTML displaying interface"
   ]
  },
  {
   "cell_type": "code",
   "execution_count": null,
   "metadata": {},
   "outputs": [],
   "source": [
    "import os\n",
    "in_binder ='JUPYTERHUB_SERVICE_PREFIX' in os.environ\n",
    "if in_binder:\n",
    "    base_prefix = '{}proxy/{}/'.format(os.environ['JUPYTERHUB_SERVICE_PREFIX'], PORT)\n",
    "    url = 'https://hub.mybinder.org{}'.format(base_prefix)\n",
    "else:\n",
    "    url = 'http://localhost:%d' % port\n",
    "    base_prefix = ''"
   ]
  },
  {
   "cell_type": "code",
   "execution_count": null,
   "metadata": {},
   "outputs": [],
   "source": [
    "from IPython.display import HTML\n",
    "\n",
    "new_url = '{}/v/{}'.format(url, viewer.get_viewer_url().split('/v/')[-1])\n",
    "\n",
    "HTML(data = '<a href=\"{url}\" target=\"_new\">Open in new window</a><hr><iframe src=\"{url}\" width = \"720px\" height = \"400px\" />'.format(url = new_url))"
   ]
  },
  {
   "cell_type": "code",
   "execution_count": null,
   "metadata": {},
   "outputs": [],
   "source": []
  }
 ],
 "metadata": {
  "kernelspec": {
   "display_name": "Python 3",
   "language": "python",
   "name": "python3"
  },
  "language_info": {
   "codemirror_mode": {
    "name": "ipython",
    "version": 3
   },
   "file_extension": ".py",
   "mimetype": "text/x-python",
   "name": "python",
   "nbconvert_exporter": "python",
   "pygments_lexer": "ipython3",
   "version": "3.6.4"
  }
 },
 "nbformat": 4,
 "nbformat_minor": 2
}
