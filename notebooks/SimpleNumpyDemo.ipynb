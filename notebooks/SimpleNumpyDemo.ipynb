{
 "cells": [
  {
   "cell_type": "markdown",
   "metadata": {},
   "source": [
    "# Basics\n",
    "The basic notebook just imports the required dependencies and sets the ports and addresses correctly to be accessible outside of the Docker container. It then creates a link for viewing the data"
   ]
  },
  {
   "cell_type": "code",
   "execution_count": 1,
   "metadata": {
    "collapsed": true
   },
   "outputs": [],
   "source": [
    "from __future__ import print_function\n",
    "from neuroglancer.server import global_server_args\n",
    "# setup the binding so it is visible outside the container\n",
    "global_server_args['bind_port'] = 8989\n",
    "global_server_args['bind_address'] = '00.0.0.0' # TODO: the server renames addresses of 0.0.0.0 and they become unusable\n",
    "import neuroglancer\n",
    "import numpy as np"
   ]
  },
  {
   "cell_type": "markdown",
   "metadata": {},
   "source": [
    "# Synthetic Data\n",
    "Since it is much easier to generate synthetic data than copy full real images a 3D image sized 100x100x100 is greated and then colored using a simple sinusoidal relationship"
   ]
  },
  {
   "cell_type": "code",
   "execution_count": 3,
   "metadata": {
    "collapsed": false
   },
   "outputs": [
    {
     "name": "stdout",
     "output_type": "stream",
     "text": [
      "(3, 100, 100, 100) (102, 102, 102)\n"
     ]
    }
   ],
   "source": [
    "a = np.zeros((3, 100, 100, 100), dtype=np.uint8)\n",
    "ix, iy, iz = np.meshgrid(*[np.linspace(0, 1, n) for n in a.shape[1:]], indexing='ij')\n",
    "a[0, :, :, :] = np.abs(np.sin(4 * (ix + iy))) * 255\n",
    "a[1, :, :, :] = np.abs(np.sin(4 * (iy + iz))) * 255\n",
    "a[2, :, :, :] = np.abs(np.sin(4 * (ix + iz))) * 255\n",
    "\n",
    "b = np.cast[np.uint32](np.floor(np.sqrt((ix - 0.5)**2 + (iy - 0.5)**2 + (iz - 0.5)**2) * 10))\n",
    "b = np.pad(b, 1, 'constant')\n",
    "print(a.shape, b.shape)"
   ]
  },
  {
   "cell_type": "markdown",
   "metadata": {},
   "source": [
    "# Create the viewer\n",
    "Here the viewer is created with a simple shader to make the rendering colorful"
   ]
  },
  {
   "cell_type": "code",
   "execution_count": 2,
   "metadata": {
    "collapsed": true
   },
   "outputs": [],
   "source": [
    "neuroglancer.set_static_content_source(url='https://neuroglancer-demo.appspot.com')\n",
    "\n",
    "viewer = neuroglancer.Viewer(voxel_size=[10, 10, 10])\n",
    "viewer.add(a,\n",
    "           name='a',\n",
    "           # offset is in nm, not voxels\n",
    "           offset=(200, 300, 150),\n",
    "           shader=\"\"\"\n",
    "void main() {\n",
    "  emitRGB(vec3(toNormalized(getDataValue(0)),\n",
    "               toNormalized(getDataValue(1)),\n",
    "               toNormalized(getDataValue(2))));\n",
    "}\n",
    "\"\"\")\n",
    "viewer.add(b, name='b')"
   ]
  },
  {
   "cell_type": "markdown",
   "metadata": {},
   "source": [
    "# Show the Results\n",
    "Here when we show the viewer we get a link, altnatively the results can be shown using the IPython HTML displaying interface"
   ]
  },
  {
   "cell_type": "code",
   "execution_count": 13,
   "metadata": {
    "collapsed": false
   },
   "outputs": [
    {
     "data": {
      "text/html": [
       "<a href=\"http://00.0.0.0:8989/static/6a71f7503d6f329832065b243340becfa9ffcd90/#!%7B%22layers%22:%7B%22a%22:%7B%22source%22:%22python://http://00.0.0.0:8989/c6554b7a46fd1731f2f3cee1975697e457492e01%22,%22type%22:%22image%22,%22shader%22:%22%5Cnvoid%20main()%20%7B%5Cn%20%20emitRGB(vec3(toNormalized(getDataValue(0)),%5Cn%20%20%20%20%20%20%20%20%20%20%20%20%20%20%20toNormalized(getDataValue(1)),%5Cn%20%20%20%20%20%20%20%20%20%20%20%20%20%20%20toNormalized(getDataValue(2))));%5Cn%7D%5Cn%22%7D,%22b%22:%7B%22source%22:%22python://http://00.0.0.0:8989/587332423f55d75292ab945b90512f3b63987adf%22,%22type%22:%22segmentation%22%7D%7D,%22navigation%22:%7B%22pose%22:%7B%22voxelSize%22:%5B10,10,10%5D%7D%7D%7D\" target=\"_blank\">Viewer</a>"
      ],
      "text/plain": [
       "http://00.0.0.0:8989/static/6a71f7503d6f329832065b243340becfa9ffcd90/#!%7B%22layers%22:%7B%22a%22:%7B%22source%22:%22python://http://00.0.0.0:8989/c6554b7a46fd1731f2f3cee1975697e457492e01%22,%22type%22:%22image%22,%22shader%22:%22%5Cnvoid%20main()%20%7B%5Cn%20%20emitRGB(vec3(toNormalized(getDataValue(0)),%5Cn%20%20%20%20%20%20%20%20%20%20%20%20%20%20%20toNormalized(getDataValue(1)),%5Cn%20%20%20%20%20%20%20%20%20%20%20%20%20%20%20toNormalized(getDataValue(2))));%5Cn%7D%5Cn%22%7D,%22b%22:%7B%22source%22:%22python://http://00.0.0.0:8989/587332423f55d75292ab945b90512f3b63987adf%22,%22type%22:%22segmentation%22%7D%7D,%22navigation%22:%7B%22pose%22:%7B%22voxelSize%22:%5B10,10,10%5D%7D%7D%7D"
      ]
     },
     "execution_count": 13,
     "metadata": {},
     "output_type": "execute_result"
    }
   ],
   "source": [
    "viewer"
   ]
  },
  {
   "cell_type": "code",
   "execution_count": 15,
   "metadata": {
    "collapsed": false
   },
   "outputs": [
    {
     "data": {
      "text/html": [
       "<!DOCTYPE html>\n",
       "<html>\n",
       "  <head>\n",
       "    <meta charset=\"UTF-8\">\n",
       "    <title>neuroglancer</title>\n",
       "    <link rel=\"stylesheet\" type=\"text/css\" href=\"styles.css\">\n",
       "  <link href=\"styles.css\" rel=\"stylesheet\"></head>\n",
       "  <body>\n",
       "    <div id=\"container\"></div>\n",
       "  <script type=\"text/javascript\" src=\"main.bundle.js\"></script></body>\n",
       "</html>\n"
      ],
      "text/plain": [
       "<IPython.core.display.HTML object>"
      ]
     },
     "execution_count": 15,
     "metadata": {},
     "output_type": "execute_result"
    }
   ],
   "source": [
    "from IPython.display import HTML\n",
    "HTML(url = str(viewer))"
   ]
  }
 ],
 "metadata": {
  "kernelspec": {
   "display_name": "Python 2",
   "language": "python",
   "name": "python2"
  },
  "language_info": {
   "codemirror_mode": {
    "name": "ipython",
    "version": 2
   },
   "file_extension": ".py",
   "mimetype": "text/x-python",
   "name": "python",
   "nbconvert_exporter": "python",
   "pygments_lexer": "ipython2",
   "version": "2.7.13"
  }
 },
 "nbformat": 4,
 "nbformat_minor": 2
}
