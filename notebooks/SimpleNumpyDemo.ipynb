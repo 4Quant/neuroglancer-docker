{
 "cells": [
  {
   "cell_type": "code",
   "execution_count": 1,
   "metadata": {
    "collapsed": true
   },
   "outputs": [],
   "source": [
    "from __future__ import print_function\n",
    "from neuroglancer.server import global_server_args\n",
    "# setup the binding so it is visible outside the container\n",
    "global_server_args['bind_port'] = 8989\n",
    "global_server_args['bind_address'] = '00.0.0.0' # TODO: the server renames addresses of 0.0.0.0 and they become unusable\n",
    "import neuroglancer\n",
    "import numpy as np"
   ]
  },
  {
   "cell_type": "code",
   "execution_count": 2,
   "metadata": {
    "collapsed": true
   },
   "outputs": [],
   "source": [
    "a = np.zeros((3, 100, 100, 100), dtype=np.uint8)\n",
    "ix, iy, iz = np.meshgrid(*[np.linspace(0, 1, n) for n in a.shape[1:]], indexing='ij')\n",
    "a[0, :, :, :] = np.abs(np.sin(4 * (ix + iy))) * 255\n",
    "a[1, :, :, :] = np.abs(np.sin(4 * (iy + iz))) * 255\n",
    "a[2, :, :, :] = np.abs(np.sin(4 * (ix + iz))) * 255\n",
    "\n",
    "b = np.cast[np.uint32](np.floor(np.sqrt((ix - 0.5)**2 + (iy - 0.5)**2 + (iz - 0.5)**2) * 10))\n",
    "b = np.pad(b, 1, 'constant')\n",
    "\n",
    "# Obtain the bundled Neuroglancer client code (HTML, CSS, and JavaScript) from\n",
    "# the demo server, so that this example works even if\n",
    "#\n",
    "#   python setup.py bundle_client\n",
    "#\n",
    "# has not been run.\n",
    "neuroglancer.set_static_content_source(url='https://neuroglancer-demo.appspot.com')\n",
    "\n",
    "viewer = neuroglancer.Viewer(voxel_size=[10, 10, 10])\n",
    "viewer.add(a,\n",
    "           name='a',\n",
    "           # offset is in nm, not voxels\n",
    "           offset=(200, 300, 150),\n",
    "           shader=\"\"\"\n",
    "void main() {\n",
    "  emitRGB(vec3(toNormalized(getDataValue(0)),\n",
    "               toNormalized(getDataValue(1)),\n",
    "               toNormalized(getDataValue(2))));\n",
    "}\n",
    "\"\"\")\n",
    "viewer.add(b, name='b')"
   ]
  },
  {
   "cell_type": "code",
   "execution_count": 3,
   "metadata": {
    "collapsed": false
   },
   "outputs": [
    {
     "name": "stdout",
     "output_type": "stream",
     "text": [
      "http://00.0.0.0:8989/static/188a440e444237be840704092c01a4bec18cfff7/#!%7B%22layers%22:%7B%22a%22:%7B%22source%22:%22python://http://00.0.0.0:8989/e0c699425251e65291120b940d3abdbbea18087a%22,%22type%22:%22image%22,%22shader%22:%22%5Cnvoid%20main()%20%7B%5Cn%20%20emitRGB(vec3(toNormalized(getDataValue(0)),%5Cn%20%20%20%20%20%20%20%20%20%20%20%20%20%20%20toNormalized(getDataValue(1)),%5Cn%20%20%20%20%20%20%20%20%20%20%20%20%20%20%20toNormalized(getDataValue(2))));%5Cn%7D%5Cn%22%7D,%22b%22:%7B%22source%22:%22python://http://00.0.0.0:8989/4a84d999a5d7142c544cca0eda9bb1bbc687a14f%22,%22type%22:%22segmentation%22%7D%7D,%22navigation%22:%7B%22pose%22:%7B%22voxelSize%22:%5B10,10,10%5D%7D%7D%7D\n"
     ]
    }
   ],
   "source": [
    "print(viewer)"
   ]
  },
  {
   "cell_type": "code",
   "execution_count": null,
   "metadata": {
    "collapsed": true
   },
   "outputs": [],
   "source": []
  }
 ],
 "metadata": {
  "kernelspec": {
   "display_name": "Python 2",
   "language": "python",
   "name": "python2"
  },
  "language_info": {
   "codemirror_mode": {
    "name": "ipython",
    "version": 2
   },
   "file_extension": ".py",
   "mimetype": "text/x-python",
   "name": "python",
   "nbconvert_exporter": "python",
   "pygments_lexer": "ipython2",
   "version": "2.7.13"
  }
 },
 "nbformat": 4,
 "nbformat_minor": 2
}
