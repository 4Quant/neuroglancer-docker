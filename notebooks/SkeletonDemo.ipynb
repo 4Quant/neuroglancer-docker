{
 "cells": [
  {
   "cell_type": "markdown",
   "metadata": {},
   "source": [
    "# Basics\n",
    "The basic notebook just imports the required dependencies and sets the ports and addresses correctly to be accessible outside of the Docker container. It then creates a link for viewing the data"
   ]
  },
  {
   "cell_type": "code",
   "execution_count": 1,
   "metadata": {},
   "outputs": [],
   "source": [
    "from __future__ import print_function\n",
    "from neuroglancer.server import global_server_args\n",
    "\n",
    "# setup the binding so it is visible outside the container\n",
    "PORT = 8989\n",
    "global_server_args['bind_port'] = PORT\n",
    "global_server_args['bind_address'] = '00.0.0.0' # TODO: the server renames addresses of 0.0.0.0 and they become unusable\n",
    "import neuroglancer\n",
    "import numpy as np"
   ]
  },
  {
   "cell_type": "markdown",
   "metadata": {},
   "source": [
    "# Synthetic Skeleton Data\n",
    "A simple skeleton data source"
   ]
  },
  {
   "cell_type": "code",
   "execution_count": 2,
   "metadata": {},
   "outputs": [],
   "source": [
    "voxel_size = np.array([10, 10, 10])\n",
    "shape = (100, 100, 100)\n",
    "segmentation = np.arange(np.prod(shape), dtype=np.uint32).reshape(shape)\n",
    "\n",
    "class SkeletonSource(neuroglancer.skeleton.SkeletonSource):\n",
    "    def __init__(self):\n",
    "        super(SkeletonSource, self).__init__()\n",
    "        self.vertex_attributes['affinity'] = neuroglancer.skeleton.VertexAttributeInfo(\n",
    "            data_type=np.float32,\n",
    "            num_components=1,\n",
    "        )\n",
    "        self.vertex_attributes['affinity2'] = neuroglancer.skeleton.VertexAttributeInfo(\n",
    "            data_type=np.float32,\n",
    "            num_components=1,\n",
    "        )\n",
    "\n",
    "    def get_skeleton(self, i):\n",
    "        pos = np.unravel_index(i, shape, order='C')[::-1]\n",
    "        vertex_positions = [pos * voxel_size, pos * voxel_size + np.random.randn(3) * 300]\n",
    "        edges = [0, 1]\n",
    "        return neuroglancer.skeleton.Skeleton(\n",
    "            vertex_positions=vertex_positions,\n",
    "            edges=edges,\n",
    "            vertex_attributes=dict(affinity=np.random.rand(2), affinity2=np.random.rand(2)))"
   ]
  },
  {
   "cell_type": "markdown",
   "metadata": {},
   "source": [
    "# Create the viewer\n",
    "Here the viewer is created with a simple shader to make the rendering colorful"
   ]
  },
  {
   "cell_type": "code",
   "execution_count": 3,
   "metadata": {},
   "outputs": [],
   "source": [
    "neuroglancer.set_static_content_source(url='https://neuroglancer-demo.appspot.com')\n",
    "viewer = neuroglancer.Viewer()\n",
    "with viewer.txn() as s:\n",
    "    s.layers.append(\n",
    "        name='a',\n",
    "        layer=neuroglancer.SegmentationLayer(\n",
    "            source=neuroglancer.LocalVolume(\n",
    "                data=segmentation,\n",
    "                voxel_size=voxel_size,\n",
    "                skeletons=SkeletonSource(),\n",
    "            ),\n",
    "            skeleton_shader='void main() { emitRGB(colormapJet(affinity)); }',\n",
    "            selected_alpha=0,\n",
    "            not_selected_alpha=0,\n",
    "        ))"
   ]
  },
  {
   "cell_type": "markdown",
   "metadata": {},
   "source": [
    "# Show the Results\n",
    "Here when we show the viewer we get a link, altnatively the results can be shown using the IPython HTML displaying interface"
   ]
  },
  {
   "cell_type": "code",
   "execution_count": 4,
   "metadata": {},
   "outputs": [],
   "source": [
    "import os\n",
    "neuroglancer.server.debug = True\n",
    "in_binder ='JUPYTERHUB_SERVICE_PREFIX' in os.environ\n",
    "if in_binder:\n",
    "    base_prefix = '{}proxy/{}/'.format(os.environ['JUPYTERHUB_SERVICE_PREFIX'], PORT)\n",
    "    url = 'https://hub.mybinder.org{}'.format(base_prefix)\n",
    "else:\n",
    "    url = 'http://localhost:%d' % port\n",
    "    base_prefix = ''"
   ]
  },
  {
   "cell_type": "code",
   "execution_count": 5,
   "metadata": {},
   "outputs": [
    {
     "data": {
      "text/html": [
       "<a href=\"https://hub.mybinder.org/user/4quantoss-neuroglancer-docker-eu6h62rs/proxy/8989//v/36d17769c0d03fd7ddf97ded7c587974ef608295/\" target=\"_new\">Open in new window</a><hr><iframe src=\"https://hub.mybinder.org/user/4quantoss-neuroglancer-docker-eu6h62rs/proxy/8989//v/36d17769c0d03fd7ddf97ded7c587974ef608295/\" width = \"720px\" height = \"400px\" />"
      ],
      "text/plain": [
       "<IPython.core.display.HTML object>"
      ]
     },
     "execution_count": 5,
     "metadata": {},
     "output_type": "execute_result"
    }
   ],
   "source": [
    "from IPython.display import HTML\n",
    "\n",
    "new_url = '{}/v/{}'.format(url, viewer.get_viewer_url().split('/v/')[-1])\n",
    "\n",
    "HTML(data = '<a href=\"{url}\" target=\"_new\">Open in new window</a><hr><iframe src=\"{url}\" width = \"720px\" height = \"400px\" />'.format(url = new_url))"
   ]
  }
 ],
 "metadata": {
  "kernelspec": {
   "display_name": "Python 3",
   "language": "python",
   "name": "python3"
  },
  "language_info": {
   "codemirror_mode": {
    "name": "ipython",
    "version": 3
   },
   "file_extension": ".py",
   "mimetype": "text/x-python",
   "name": "python",
   "nbconvert_exporter": "python",
   "pygments_lexer": "ipython3",
   "version": "3.6.4"
  }
 },
 "nbformat": 4,
 "nbformat_minor": 2
}
